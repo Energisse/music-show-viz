{
 "cells": [
  {
   "metadata": {},
   "cell_type": "markdown",
   "source": "# Music Listening Habits Data Mining",
   "id": "17998f13b9fd40f5"
  },
  {
   "cell_type": "code",
   "id": "initial_id",
   "metadata": {
    "collapsed": true,
    "ExecuteTime": {
     "end_time": "2024-12-22T06:34:26.699940Z",
     "start_time": "2024-12-22T06:34:25.674975Z"
    }
   },
   "source": [
    "import pandas as pd\n",
    "import os\n",
    "import json"
   ],
   "outputs": [],
   "execution_count": 1
  },
  {
   "metadata": {},
   "cell_type": "markdown",
   "source": [
    "## Data needs to support vizualisation\n",
    "\n",
    "- Top 15 artists (name & link) ✅\n",
    "- Listening duration per artist ✅\n",
    "- Number of different tracks listened per artist ✅\n",
    "\n",
    "- Top 15 genres for each user ✅\n",
    "- Listening time for each genre ✅\n",
    "- Proportion of listening per genre ✅\n",
    "\n",
    "- Average listening time per user ✅\n",
    "\n",
    "- Ranking of genres per period (each week, each months)✅\n",
    "- Ranking of tracks per period (each week, each months)✅\n",
    "- Ranking of artist per period  (each week, each months)✅"
   ],
   "id": "687ecbea10f133c9"
  },
  {
   "metadata": {},
   "cell_type": "markdown",
   "source": "## Import Data for each users",
   "id": "957794c93bc9fb8f"
  },
  {
   "metadata": {
    "ExecuteTime": {
     "end_time": "2024-12-22T06:49:12.602238Z",
     "start_time": "2024-12-22T06:49:00.342262Z"
    }
   },
   "cell_type": "code",
   "source": "df_clement = pd.read_excel(\"./data/Archive-Clement-Deezer/clement-deezer-data.xlsx\", \"10_listeningHistory\")",
   "id": "5414ed54ad6a16a",
   "outputs": [],
   "execution_count": 45
  },
  {
   "metadata": {
    "ExecuteTime": {
     "end_time": "2024-12-22T06:53:16.457378Z",
     "start_time": "2024-12-22T06:53:16.425915Z"
    }
   },
   "cell_type": "code",
   "source": "df_clement.head(5)",
   "id": "8b03a3534204c8e5",
   "outputs": [
    {
     "data": {
      "text/plain": [
       "  Song Title  Artist          ISRC Album Title      IP Address  \\\n",
       "0     Beggin  Madcon  NOBLV0703011      Beggin    37.165.218.4   \n",
       "1     Beggin  Madcon  NOBLV0703011      Beggin   37.166.33.146   \n",
       "2     Beggin  Madcon  NOBLV0703011      Beggin    37.166.68.99   \n",
       "3     Beggin  Madcon  NOBLV0703011      Beggin  193.51.159.240   \n",
       "4     Beggin  Madcon  NOBLV0703011      Beggin    37.169.42.32   \n",
       "\n",
       "   Listening Time Platform Name    Platform Model                 Date  \n",
       "0               1       android    HUAWEI ANE-LX1  2022-03-08 13:49:04  \n",
       "1             218       android    HUAWEI ANE-LX1  2022-02-22 16:19:01  \n",
       "2             218       android  samsung SM-A528B  2023-11-11 11:07:36  \n",
       "3               4       android    HUAWEI ANE-LX1  2022-04-20 09:07:38  \n",
       "4             218       android    HUAWEI ANE-LX1  2022-02-27 18:53:00  "
      ],
      "text/html": [
       "<div>\n",
       "<style scoped>\n",
       "    .dataframe tbody tr th:only-of-type {\n",
       "        vertical-align: middle;\n",
       "    }\n",
       "\n",
       "    .dataframe tbody tr th {\n",
       "        vertical-align: top;\n",
       "    }\n",
       "\n",
       "    .dataframe thead th {\n",
       "        text-align: right;\n",
       "    }\n",
       "</style>\n",
       "<table border=\"1\" class=\"dataframe\">\n",
       "  <thead>\n",
       "    <tr style=\"text-align: right;\">\n",
       "      <th></th>\n",
       "      <th>Song Title</th>\n",
       "      <th>Artist</th>\n",
       "      <th>ISRC</th>\n",
       "      <th>Album Title</th>\n",
       "      <th>IP Address</th>\n",
       "      <th>Listening Time</th>\n",
       "      <th>Platform Name</th>\n",
       "      <th>Platform Model</th>\n",
       "      <th>Date</th>\n",
       "    </tr>\n",
       "  </thead>\n",
       "  <tbody>\n",
       "    <tr>\n",
       "      <th>0</th>\n",
       "      <td>Beggin</td>\n",
       "      <td>Madcon</td>\n",
       "      <td>NOBLV0703011</td>\n",
       "      <td>Beggin</td>\n",
       "      <td>37.165.218.4</td>\n",
       "      <td>1</td>\n",
       "      <td>android</td>\n",
       "      <td>HUAWEI ANE-LX1</td>\n",
       "      <td>2022-03-08 13:49:04</td>\n",
       "    </tr>\n",
       "    <tr>\n",
       "      <th>1</th>\n",
       "      <td>Beggin</td>\n",
       "      <td>Madcon</td>\n",
       "      <td>NOBLV0703011</td>\n",
       "      <td>Beggin</td>\n",
       "      <td>37.166.33.146</td>\n",
       "      <td>218</td>\n",
       "      <td>android</td>\n",
       "      <td>HUAWEI ANE-LX1</td>\n",
       "      <td>2022-02-22 16:19:01</td>\n",
       "    </tr>\n",
       "    <tr>\n",
       "      <th>2</th>\n",
       "      <td>Beggin</td>\n",
       "      <td>Madcon</td>\n",
       "      <td>NOBLV0703011</td>\n",
       "      <td>Beggin</td>\n",
       "      <td>37.166.68.99</td>\n",
       "      <td>218</td>\n",
       "      <td>android</td>\n",
       "      <td>samsung SM-A528B</td>\n",
       "      <td>2023-11-11 11:07:36</td>\n",
       "    </tr>\n",
       "    <tr>\n",
       "      <th>3</th>\n",
       "      <td>Beggin</td>\n",
       "      <td>Madcon</td>\n",
       "      <td>NOBLV0703011</td>\n",
       "      <td>Beggin</td>\n",
       "      <td>193.51.159.240</td>\n",
       "      <td>4</td>\n",
       "      <td>android</td>\n",
       "      <td>HUAWEI ANE-LX1</td>\n",
       "      <td>2022-04-20 09:07:38</td>\n",
       "    </tr>\n",
       "    <tr>\n",
       "      <th>4</th>\n",
       "      <td>Beggin</td>\n",
       "      <td>Madcon</td>\n",
       "      <td>NOBLV0703011</td>\n",
       "      <td>Beggin</td>\n",
       "      <td>37.169.42.32</td>\n",
       "      <td>218</td>\n",
       "      <td>android</td>\n",
       "      <td>HUAWEI ANE-LX1</td>\n",
       "      <td>2022-02-27 18:53:00</td>\n",
       "    </tr>\n",
       "  </tbody>\n",
       "</table>\n",
       "</div>"
      ]
     },
     "execution_count": 55,
     "metadata": {},
     "output_type": "execute_result"
    }
   ],
   "execution_count": 55
  },
  {
   "metadata": {
    "ExecuteTime": {
     "end_time": "2024-12-22T06:51:16.064924Z",
     "start_time": "2024-12-22T06:51:16.026378Z"
    }
   },
   "cell_type": "code",
   "source": "df_clement.count(\"\")",
   "id": "736a4f604a59758e",
   "outputs": [
    {
     "data": {
      "text/plain": [
       "Song Title        36276\n",
       "Artist            36276\n",
       "ISRC              36276\n",
       "Album Title       36276\n",
       "IP Address        36276\n",
       "Listening Time    36276\n",
       "Platform Name     36276\n",
       "Platform Model    31978\n",
       "Date              36276\n",
       "dtype: int64"
      ]
     },
     "execution_count": 54,
     "metadata": {},
     "output_type": "execute_result"
    }
   ],
   "execution_count": 54
  },
  {
   "metadata": {},
   "cell_type": "markdown",
   "source": "## Retrieve useful columns",
   "id": "235b9d5a55aba00d"
  },
  {
   "metadata": {
    "ExecuteTime": {
     "end_time": "2024-12-22T06:36:31.319196Z",
     "start_time": "2024-12-22T06:36:31.303067Z"
    }
   },
   "cell_type": "code",
   "source": "df_clement = df_clement[[\"Song Title\", \"Artist\", \"Album Title\", \"Date\"]]\n",
   "id": "ad12ab82c9963bf6",
   "outputs": [],
   "execution_count": 18
  },
  {
   "metadata": {},
   "cell_type": "markdown",
   "source": "## Columns format",
   "id": "9aa6ec6bf06f562e"
  },
  {
   "metadata": {
    "ExecuteTime": {
     "end_time": "2024-12-22T06:53:28.057245Z",
     "start_time": "2024-12-22T06:53:27.931455Z"
    }
   },
   "cell_type": "code",
   "source": [
    "df_clement = df_clement.sort_values(\"Date\")\n",
    "df_clement['Date'] = pd.to_datetime(df_clement['Date'])"
   ],
   "id": "e709570c261de49a",
   "outputs": [],
   "execution_count": 56
  },
  {
   "metadata": {
    "ExecuteTime": {
     "end_time": "2024-12-22T06:54:13.580946Z",
     "start_time": "2024-12-22T06:54:13.549320Z"
    }
   },
   "cell_type": "code",
   "source": [
    "(df_clement.head\n",
    "(1))"
   ],
   "id": "5ef8ce1176d7a6a1",
   "outputs": [
    {
     "data": {
      "text/plain": [
       "        Song Title   Artist          ISRC                      Album Title  \\\n",
       "9366  Mme Pavoshko  Black M  FR7U61200382  Le monde plus gros que mes yeux   \n",
       "\n",
       "       IP Address  Listening Time Platform Name Platform Model  \\\n",
       "9366  88.170.1.13             256       android            NaN   \n",
       "\n",
       "                    Date  \n",
       "9366 2015-06-21 18:15:59  "
      ],
      "text/html": [
       "<div>\n",
       "<style scoped>\n",
       "    .dataframe tbody tr th:only-of-type {\n",
       "        vertical-align: middle;\n",
       "    }\n",
       "\n",
       "    .dataframe tbody tr th {\n",
       "        vertical-align: top;\n",
       "    }\n",
       "\n",
       "    .dataframe thead th {\n",
       "        text-align: right;\n",
       "    }\n",
       "</style>\n",
       "<table border=\"1\" class=\"dataframe\">\n",
       "  <thead>\n",
       "    <tr style=\"text-align: right;\">\n",
       "      <th></th>\n",
       "      <th>Song Title</th>\n",
       "      <th>Artist</th>\n",
       "      <th>ISRC</th>\n",
       "      <th>Album Title</th>\n",
       "      <th>IP Address</th>\n",
       "      <th>Listening Time</th>\n",
       "      <th>Platform Name</th>\n",
       "      <th>Platform Model</th>\n",
       "      <th>Date</th>\n",
       "    </tr>\n",
       "  </thead>\n",
       "  <tbody>\n",
       "    <tr>\n",
       "      <th>9366</th>\n",
       "      <td>Mme Pavoshko</td>\n",
       "      <td>Black M</td>\n",
       "      <td>FR7U61200382</td>\n",
       "      <td>Le monde plus gros que mes yeux</td>\n",
       "      <td>88.170.1.13</td>\n",
       "      <td>256</td>\n",
       "      <td>android</td>\n",
       "      <td>NaN</td>\n",
       "      <td>2015-06-21 18:15:59</td>\n",
       "    </tr>\n",
       "  </tbody>\n",
       "</table>\n",
       "</div>"
      ]
     },
     "execution_count": 59,
     "metadata": {},
     "output_type": "execute_result"
    }
   ],
   "execution_count": 59
  },
  {
   "metadata": {},
   "cell_type": "markdown",
   "source": "## Explore within time interval",
   "id": "ddb8bdc763f572d9"
  },
  {
   "metadata": {
    "ExecuteTime": {
     "end_time": "2024-12-22T06:42:38.411784Z",
     "start_time": "2024-12-22T06:42:38.396147Z"
    }
   },
   "cell_type": "code",
   "source": [
    "# Define the date interval\n",
    "start_date = \"2024-01-01\"\n",
    "end_date = \"2025-01-31\"\n",
    "\n",
    "# Filter the DataFrame\n",
    "date_filtered_df = df_clement[(df_clement['Date'] >= start_date) & (df_clement['Date'] <= end_date)]"
   ],
   "id": "f87692030845bd85",
   "outputs": [],
   "execution_count": 41
  },
  {
   "metadata": {
    "ExecuteTime": {
     "end_time": "2024-12-22T06:42:38.614430Z",
     "start_time": "2024-12-22T06:42:38.598734Z"
    }
   },
   "cell_type": "code",
   "source": "artist_counts = date_filtered_df.groupby('Artist').size().reset_index(name='Total Count')",
   "id": "3d335e370d826971",
   "outputs": [],
   "execution_count": 42
  },
  {
   "metadata": {
    "ExecuteTime": {
     "end_time": "2024-12-22T06:42:38.830403Z",
     "start_time": "2024-12-22T06:42:38.798624Z"
    }
   },
   "cell_type": "code",
   "source": "artist_counts.sort_values(\"Total Count\", ascending=False).head(15)",
   "id": "a4198dfeb6713d26",
   "outputs": [
    {
     "data": {
      "text/plain": [
       "               Artist  Total Count\n",
       "141   Imagine Dragons          292\n",
       "129          Grandson          261\n",
       "296           Starset          168\n",
       "186       Linkin Park          138\n",
       "313  System of a Down          115\n",
       "308         Sub Urban          105\n",
       "347  Three Days Grace          101\n",
       "131         Green Day           95\n",
       "137  Hollywood Undead           92\n",
       "103   Escape the Fate           91\n",
       "229           Nirvana           91\n",
       "216          Måneskin           89\n",
       "36      Black Sabbath           80\n",
       "282         Shinedown           78\n",
       "311             Sueco           77"
      ],
      "text/html": [
       "<div>\n",
       "<style scoped>\n",
       "    .dataframe tbody tr th:only-of-type {\n",
       "        vertical-align: middle;\n",
       "    }\n",
       "\n",
       "    .dataframe tbody tr th {\n",
       "        vertical-align: top;\n",
       "    }\n",
       "\n",
       "    .dataframe thead th {\n",
       "        text-align: right;\n",
       "    }\n",
       "</style>\n",
       "<table border=\"1\" class=\"dataframe\">\n",
       "  <thead>\n",
       "    <tr style=\"text-align: right;\">\n",
       "      <th></th>\n",
       "      <th>Artist</th>\n",
       "      <th>Total Count</th>\n",
       "    </tr>\n",
       "  </thead>\n",
       "  <tbody>\n",
       "    <tr>\n",
       "      <th>141</th>\n",
       "      <td>Imagine Dragons</td>\n",
       "      <td>292</td>\n",
       "    </tr>\n",
       "    <tr>\n",
       "      <th>129</th>\n",
       "      <td>Grandson</td>\n",
       "      <td>261</td>\n",
       "    </tr>\n",
       "    <tr>\n",
       "      <th>296</th>\n",
       "      <td>Starset</td>\n",
       "      <td>168</td>\n",
       "    </tr>\n",
       "    <tr>\n",
       "      <th>186</th>\n",
       "      <td>Linkin Park</td>\n",
       "      <td>138</td>\n",
       "    </tr>\n",
       "    <tr>\n",
       "      <th>313</th>\n",
       "      <td>System of a Down</td>\n",
       "      <td>115</td>\n",
       "    </tr>\n",
       "    <tr>\n",
       "      <th>308</th>\n",
       "      <td>Sub Urban</td>\n",
       "      <td>105</td>\n",
       "    </tr>\n",
       "    <tr>\n",
       "      <th>347</th>\n",
       "      <td>Three Days Grace</td>\n",
       "      <td>101</td>\n",
       "    </tr>\n",
       "    <tr>\n",
       "      <th>131</th>\n",
       "      <td>Green Day</td>\n",
       "      <td>95</td>\n",
       "    </tr>\n",
       "    <tr>\n",
       "      <th>137</th>\n",
       "      <td>Hollywood Undead</td>\n",
       "      <td>92</td>\n",
       "    </tr>\n",
       "    <tr>\n",
       "      <th>103</th>\n",
       "      <td>Escape the Fate</td>\n",
       "      <td>91</td>\n",
       "    </tr>\n",
       "    <tr>\n",
       "      <th>229</th>\n",
       "      <td>Nirvana</td>\n",
       "      <td>91</td>\n",
       "    </tr>\n",
       "    <tr>\n",
       "      <th>216</th>\n",
       "      <td>Måneskin</td>\n",
       "      <td>89</td>\n",
       "    </tr>\n",
       "    <tr>\n",
       "      <th>36</th>\n",
       "      <td>Black Sabbath</td>\n",
       "      <td>80</td>\n",
       "    </tr>\n",
       "    <tr>\n",
       "      <th>282</th>\n",
       "      <td>Shinedown</td>\n",
       "      <td>78</td>\n",
       "    </tr>\n",
       "    <tr>\n",
       "      <th>311</th>\n",
       "      <td>Sueco</td>\n",
       "      <td>77</td>\n",
       "    </tr>\n",
       "  </tbody>\n",
       "</table>\n",
       "</div>"
      ]
     },
     "execution_count": 43,
     "metadata": {},
     "output_type": "execute_result"
    }
   ],
   "execution_count": 43
  }
 ],
 "metadata": {
  "kernelspec": {
   "display_name": "Python 3",
   "language": "python",
   "name": "python3"
  },
  "language_info": {
   "codemirror_mode": {
    "name": "ipython",
    "version": 2
   },
   "file_extension": ".py",
   "mimetype": "text/x-python",
   "name": "python",
   "nbconvert_exporter": "python",
   "pygments_lexer": "ipython2",
   "version": "2.7.6"
  }
 },
 "nbformat": 4,
 "nbformat_minor": 5
}
