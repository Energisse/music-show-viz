{
 "cells": [
  {
   "metadata": {},
   "cell_type": "markdown",
   "source": "# Music Listening Habits Data Mining",
   "id": "17998f13b9fd40f5"
  },
  {
   "cell_type": "code",
   "id": "initial_id",
   "metadata": {
    "collapsed": true,
    "ExecuteTime": {
     "end_time": "2025-01-07T18:31:18.958010Z",
     "start_time": "2025-01-07T18:31:18.045523Z"
    }
   },
   "source": [
    "import pandas as pd\n",
    "import ast\n",
    "import json\n",
    "import utils\n",
    "import re"
   ],
   "outputs": [],
   "execution_count": 1
  },
  {
   "metadata": {},
   "cell_type": "markdown",
   "source": [
    "## Data needs to support visualisation\n",
    "\n",
    "This document aims to provide a detailed overview of the music listening habits of users from different music streaming platforms. The data is extracted from various sources, including Deezer, Spotify, and YouTube Music. The statistics include the following key metrics:\n",
    "\n",
    "- Top 15 artists (name & link) \n",
    "- Listening duration per artist \n",
    "- Number of different tracks listened per artist \n",
    "\n",
    "- Top 15 genres for each user \n",
    "- Listening time for each genre \n",
    "- Proportion of listening per genre \n",
    "\n",
    "- Average listening time per user \n",
    "\n",
    "- Ranking of genres per period (each week, each month)\n",
    "- Ranking of tracks per period (each week, each month)\n",
    "- Ranking of artist per period  (each week, each month)\n",
    "\n",
    "- Exact listening time per user per date \n",
    "- Average listening time per user per hour \n",
    "- Average listening time per user per month "
   ],
   "id": "687ecbea10f133c9"
  },
  {
   "metadata": {},
   "cell_type": "markdown",
   "source": "## Import Data from Deezer",
   "id": "957794c93bc9fb8f"
  },
  {
   "metadata": {},
   "cell_type": "markdown",
   "source": "The data is loaded from the Excel file containing the listening history of the user.",
   "id": "d6f692176e0b0f84"
  },
  {
   "metadata": {
    "ExecuteTime": {
     "end_time": "2025-01-07T17:01:10.358447Z",
     "start_time": "2025-01-07T17:01:01.577396Z"
    }
   },
   "cell_type": "code",
   "source": "df = pd.read_excel(\"./data/Archive-Clement-Deezer/clement-deezer-data.xlsx\", \"10_listeningHistory\")",
   "id": "5414ed54ad6a16a",
   "outputs": [],
   "execution_count": 77
  },
  {
   "metadata": {},
   "cell_type": "markdown",
   "source": "The data is then processed to remove any negative listening times and sort the data by date.",
   "id": "77deb9b5d45b50dc"
  },
  {
   "metadata": {
    "ExecuteTime": {
     "end_time": "2025-01-07T17:02:45.518356Z",
     "start_time": "2025-01-07T17:02:45.445132Z"
    }
   },
   "cell_type": "code",
   "source": [
    "# Drop useless columns\n",
    "df = df[[\"Date\", \"Song Title\", \"Artist\", \"Album Title\", \"Listening Time\"]]\n",
    "# Drop negative listening time\n",
    "df = df[df[\"Listening Time\"] > 0]\n",
    "# Convert the date to datetime\n",
    "df['Date'] = pd.to_datetime(df['Date'])\n",
    "# Sort the data by date\n",
    "df = df.sort_values(\"Date\", ascending=False)"
   ],
   "id": "8b03a3534204c8e5",
   "outputs": [],
   "execution_count": 79
  },
  {
   "metadata": {},
   "cell_type": "markdown",
   "source": "Here is a preview of the data:",
   "id": "1a0a04fd10b0e4cd"
  },
  {
   "metadata": {
    "ExecuteTime": {
     "end_time": "2025-01-07T17:02:47.911470Z",
     "start_time": "2025-01-07T17:02:47.896191Z"
    }
   },
   "cell_type": "code",
   "source": "df.head(5)",
   "id": "8eded9cdbb4c61b3",
   "outputs": [
    {
     "data": {
      "text/plain": [
       "                     Date           Song Title                         Artist  \\\n",
       "1740  2024-12-03 18:02:15               Cirice                          Ghost   \n",
       "15427 2024-12-03 16:29:51  I Love Rock 'N Roll  Joan Jett and the Blackhearts   \n",
       "30156 2024-12-03 16:26:56  Wish I Had an Angel                      Nightwish   \n",
       "31984 2024-12-03 16:22:51    Something To Hide                       Grandson   \n",
       "15186 2024-12-03 16:20:42              Monster                          PVRIS   \n",
       "\n",
       "                                   Album Title  Listening Time  \n",
       "1740                                   Meliora              53  \n",
       "15427  I Love Rock 'N' Roll (Expanded Edition)             175  \n",
       "30156                                     Once             245  \n",
       "31984                        Something To Hide             119  \n",
       "15186                                  Monster             178  "
      ],
      "text/html": [
       "<div>\n",
       "<style scoped>\n",
       "    .dataframe tbody tr th:only-of-type {\n",
       "        vertical-align: middle;\n",
       "    }\n",
       "\n",
       "    .dataframe tbody tr th {\n",
       "        vertical-align: top;\n",
       "    }\n",
       "\n",
       "    .dataframe thead th {\n",
       "        text-align: right;\n",
       "    }\n",
       "</style>\n",
       "<table border=\"1\" class=\"dataframe\">\n",
       "  <thead>\n",
       "    <tr style=\"text-align: right;\">\n",
       "      <th></th>\n",
       "      <th>Date</th>\n",
       "      <th>Song Title</th>\n",
       "      <th>Artist</th>\n",
       "      <th>Album Title</th>\n",
       "      <th>Listening Time</th>\n",
       "    </tr>\n",
       "  </thead>\n",
       "  <tbody>\n",
       "    <tr>\n",
       "      <th>1740</th>\n",
       "      <td>2024-12-03 18:02:15</td>\n",
       "      <td>Cirice</td>\n",
       "      <td>Ghost</td>\n",
       "      <td>Meliora</td>\n",
       "      <td>53</td>\n",
       "    </tr>\n",
       "    <tr>\n",
       "      <th>15427</th>\n",
       "      <td>2024-12-03 16:29:51</td>\n",
       "      <td>I Love Rock 'N Roll</td>\n",
       "      <td>Joan Jett and the Blackhearts</td>\n",
       "      <td>I Love Rock 'N' Roll (Expanded Edition)</td>\n",
       "      <td>175</td>\n",
       "    </tr>\n",
       "    <tr>\n",
       "      <th>30156</th>\n",
       "      <td>2024-12-03 16:26:56</td>\n",
       "      <td>Wish I Had an Angel</td>\n",
       "      <td>Nightwish</td>\n",
       "      <td>Once</td>\n",
       "      <td>245</td>\n",
       "    </tr>\n",
       "    <tr>\n",
       "      <th>31984</th>\n",
       "      <td>2024-12-03 16:22:51</td>\n",
       "      <td>Something To Hide</td>\n",
       "      <td>Grandson</td>\n",
       "      <td>Something To Hide</td>\n",
       "      <td>119</td>\n",
       "    </tr>\n",
       "    <tr>\n",
       "      <th>15186</th>\n",
       "      <td>2024-12-03 16:20:42</td>\n",
       "      <td>Monster</td>\n",
       "      <td>PVRIS</td>\n",
       "      <td>Monster</td>\n",
       "      <td>178</td>\n",
       "    </tr>\n",
       "  </tbody>\n",
       "</table>\n",
       "</div>"
      ]
     },
     "execution_count": 80,
     "metadata": {},
     "output_type": "execute_result"
    }
   ],
   "execution_count": 80
  },
  {
   "metadata": {},
   "cell_type": "markdown",
   "source": "For each record in the DataFrame, we have the date of the listening session, the title of the song, the artist, the album title, and the listening time in seconds.",
   "id": "ebd6e0c41ec4228f"
  },
  {
   "metadata": {},
   "cell_type": "markdown",
   "source": "# API Request for genres",
   "id": "fd8366742adce757"
  },
  {
   "metadata": {},
   "cell_type": "markdown",
   "source": "The LastFM API is used to fetch the tags for each song. The API request is made using the song title and artist name. More details on the implemention in the `utils.py` file.",
   "id": "d667c42bf201e0a8"
  },
  {
   "metadata": {
    "ExecuteTime": {
     "end_time": "2025-01-07T16:15:48.475739Z",
     "start_time": "2025-01-07T16:15:47.200831Z"
    }
   },
   "cell_type": "code",
   "source": [
    "# Step 1: Create a unique DataFrame for Title and Artist\n",
    "unique_songs = df[[\"Song Title\", \"Artist\"]].drop_duplicates()\n",
    "\n",
    "# Step 2: Fetch tags for each unique song\n",
    "unique_songs[\"Tags\"] = unique_songs.apply(lambda row: utils.fetch_tags(row[\"Song Title\"], row[\"Artist\"]), axis=1)\n",
    "\n",
    "# Step 3: Merge the tags back to the original DataFrame\n",
    "df = df.merge(unique_songs, on=[\"Song Title\", \"Artist\"], how=\"left\")"
   ],
   "id": "eb1b677e643b0891",
   "outputs": [],
   "execution_count": 11
  },
  {
   "metadata": {},
   "cell_type": "markdown",
   "source": "The tags are then added to the DataFrame. Here is a preview of the data:",
   "id": "2d0c1dfafb4c9edb"
  },
  {
   "metadata": {
    "ExecuteTime": {
     "end_time": "2025-01-07T16:15:53.111215Z",
     "start_time": "2025-01-07T16:15:53.100813Z"
    }
   },
   "cell_type": "code",
   "source": "df.head(5)",
   "id": "2625f0d63792254d",
   "outputs": [
    {
     "data": {
      "text/plain": [
       "                 Date           Song Title                         Artist  \\\n",
       "0 2024-12-03 18:02:15               Cirice                          Ghost   \n",
       "1 2024-12-03 16:29:51  I Love Rock 'N Roll  Joan Jett and the Blackhearts   \n",
       "2 2024-12-03 16:26:56  Wish I Had an Angel                      Nightwish   \n",
       "3 2024-12-03 16:22:51    Something To Hide                       Grandson   \n",
       "4 2024-12-03 16:20:42              Monster                          PVRIS   \n",
       "\n",
       "                               Album Title  Listening Time  \\\n",
       "0                                  Meliora              53   \n",
       "1  I Love Rock 'N' Roll (Expanded Edition)             175   \n",
       "2                                     Once             245   \n",
       "3                        Something To Hide             119   \n",
       "4                                  Monster             178   \n",
       "\n",
       "                                                Tags  \n",
       "0  [heavy metal, doom metal, metal, 2015, hard rock]  \n",
       "1  [rock, 80s, classic rock, female vocalists, ha...  \n",
       "2  [symphonic metal, Gothic Metal, metal, Power m...  \n",
       "3                                     [my top songs]  \n",
       "4  [alternative rock, electronic rock, Hip-Hop, e...  "
      ],
      "text/html": [
       "<div>\n",
       "<style scoped>\n",
       "    .dataframe tbody tr th:only-of-type {\n",
       "        vertical-align: middle;\n",
       "    }\n",
       "\n",
       "    .dataframe tbody tr th {\n",
       "        vertical-align: top;\n",
       "    }\n",
       "\n",
       "    .dataframe thead th {\n",
       "        text-align: right;\n",
       "    }\n",
       "</style>\n",
       "<table border=\"1\" class=\"dataframe\">\n",
       "  <thead>\n",
       "    <tr style=\"text-align: right;\">\n",
       "      <th></th>\n",
       "      <th>Date</th>\n",
       "      <th>Song Title</th>\n",
       "      <th>Artist</th>\n",
       "      <th>Album Title</th>\n",
       "      <th>Listening Time</th>\n",
       "      <th>Tags</th>\n",
       "    </tr>\n",
       "  </thead>\n",
       "  <tbody>\n",
       "    <tr>\n",
       "      <th>0</th>\n",
       "      <td>2024-12-03 18:02:15</td>\n",
       "      <td>Cirice</td>\n",
       "      <td>Ghost</td>\n",
       "      <td>Meliora</td>\n",
       "      <td>53</td>\n",
       "      <td>[heavy metal, doom metal, metal, 2015, hard rock]</td>\n",
       "    </tr>\n",
       "    <tr>\n",
       "      <th>1</th>\n",
       "      <td>2024-12-03 16:29:51</td>\n",
       "      <td>I Love Rock 'N Roll</td>\n",
       "      <td>Joan Jett and the Blackhearts</td>\n",
       "      <td>I Love Rock 'N' Roll (Expanded Edition)</td>\n",
       "      <td>175</td>\n",
       "      <td>[rock, 80s, classic rock, female vocalists, ha...</td>\n",
       "    </tr>\n",
       "    <tr>\n",
       "      <th>2</th>\n",
       "      <td>2024-12-03 16:26:56</td>\n",
       "      <td>Wish I Had an Angel</td>\n",
       "      <td>Nightwish</td>\n",
       "      <td>Once</td>\n",
       "      <td>245</td>\n",
       "      <td>[symphonic metal, Gothic Metal, metal, Power m...</td>\n",
       "    </tr>\n",
       "    <tr>\n",
       "      <th>3</th>\n",
       "      <td>2024-12-03 16:22:51</td>\n",
       "      <td>Something To Hide</td>\n",
       "      <td>Grandson</td>\n",
       "      <td>Something To Hide</td>\n",
       "      <td>119</td>\n",
       "      <td>[my top songs]</td>\n",
       "    </tr>\n",
       "    <tr>\n",
       "      <th>4</th>\n",
       "      <td>2024-12-03 16:20:42</td>\n",
       "      <td>Monster</td>\n",
       "      <td>PVRIS</td>\n",
       "      <td>Monster</td>\n",
       "      <td>178</td>\n",
       "      <td>[alternative rock, electronic rock, Hip-Hop, e...</td>\n",
       "    </tr>\n",
       "  </tbody>\n",
       "</table>\n",
       "</div>"
      ]
     },
     "execution_count": 12,
     "metadata": {},
     "output_type": "execute_result"
    }
   ],
   "execution_count": 12
  },
  {
   "metadata": {},
   "cell_type": "markdown",
   "source": "Now that we have the tags for each song, we can proceed with the analysis. The data is then exported to a CSV file for further processing.",
   "id": "29ea529e9e1da28c"
  },
  {
   "metadata": {
    "ExecuteTime": {
     "end_time": "2025-01-06T23:40:53.932869Z",
     "start_time": "2025-01-06T23:40:53.843459Z"
    }
   },
   "cell_type": "code",
   "source": [
    "df.to_csv(\"matthieu_songs_with_tags_verified.csv\", index=False)\n",
    "print(\"DataFrame exported to songs_with_tags.csv\")"
   ],
   "id": "455d333fc599ce61",
   "outputs": [
    {
     "name": "stdout",
     "output_type": "stream",
     "text": [
      "DataFrame exported to songs_with_tags.csv\n"
     ]
    }
   ],
   "execution_count": 14
  },
  {
   "metadata": {},
   "cell_type": "markdown",
   "source": "# Data Exploration",
   "id": "63c1e810808504ea"
  },
  {
   "metadata": {},
   "cell_type": "markdown",
   "source": "Since the data is now ready, we can proceed with the exploration. The following sections will provide insights into the listening habits of the user, including top artists, genres, tracks, and more. The csv file is loaded and contains the following columns: [Date, Song Title, Artist, Album Title, Listening Time, and Tags].",
   "id": "793c34931b2a9e33"
  },
  {
   "metadata": {
    "ExecuteTime": {
     "end_time": "2025-01-07T16:20:36.152928Z",
     "start_time": "2025-01-07T16:20:36.077302Z"
    }
   },
   "cell_type": "code",
   "source": "df = pd.read_csv(\"clement_songs_with_tags_verified.csv\")",
   "id": "73f9f98bb0ecc762",
   "outputs": [],
   "execution_count": 17
  },
  {
   "metadata": {},
   "cell_type": "markdown",
   "source": "We need to convert the 'Date' column to a datetime format and the 'Tags' column to a list of strings.",
   "id": "95d14591663460d1"
  },
  {
   "metadata": {
    "ExecuteTime": {
     "end_time": "2025-01-07T16:20:38.384Z",
     "start_time": "2025-01-07T16:20:37.656961Z"
    }
   },
   "cell_type": "code",
   "source": [
    "df['Date'] = pd.to_datetime(df['Date'])\n",
    "df[\"Tags\"] = df[\"Tags\"].apply(ast.literal_eval)"
   ],
   "id": "c225688ff7cf57d1",
   "outputs": [],
   "execution_count": 18
  },
  {
   "metadata": {
    "ExecuteTime": {
     "end_time": "2025-01-07T16:20:38.447026Z",
     "start_time": "2025-01-07T16:20:38.415802Z"
    }
   },
   "cell_type": "code",
   "source": "df.head(5)",
   "id": "9d20e5cc94482e2c",
   "outputs": [
    {
     "data": {
      "text/plain": [
       "                 Date           Song Title                         Artist  \\\n",
       "0 2024-12-03 18:02:15               Cirice                          Ghost   \n",
       "1 2024-12-03 16:29:51  I Love Rock 'N Roll  Joan Jett and the Blackhearts   \n",
       "2 2024-12-03 16:26:56  Wish I Had an Angel                      Nightwish   \n",
       "3 2024-12-03 16:22:51    Something To Hide                       Grandson   \n",
       "4 2024-12-03 16:20:42              Monster                          PVRIS   \n",
       "\n",
       "                               Album Title  Listening Time  \\\n",
       "0                                  Meliora              53   \n",
       "1  I Love Rock 'N' Roll (Expanded Edition)             175   \n",
       "2                                     Once             245   \n",
       "3                        Something To Hide             119   \n",
       "4                                  Monster             178   \n",
       "\n",
       "                                                Tags  \n",
       "0  [heavy metal, doom metal, metal, 2015, hard rock]  \n",
       "1  [rock, 80s, classic rock, female vocalists, ha...  \n",
       "2  [symphonic metal, Gothic Metal, metal, Power m...  \n",
       "3                                     [my top songs]  \n",
       "4  [alternative rock, electronic rock, Hip-Hop, e...  "
      ],
      "text/html": [
       "<div>\n",
       "<style scoped>\n",
       "    .dataframe tbody tr th:only-of-type {\n",
       "        vertical-align: middle;\n",
       "    }\n",
       "\n",
       "    .dataframe tbody tr th {\n",
       "        vertical-align: top;\n",
       "    }\n",
       "\n",
       "    .dataframe thead th {\n",
       "        text-align: right;\n",
       "    }\n",
       "</style>\n",
       "<table border=\"1\" class=\"dataframe\">\n",
       "  <thead>\n",
       "    <tr style=\"text-align: right;\">\n",
       "      <th></th>\n",
       "      <th>Date</th>\n",
       "      <th>Song Title</th>\n",
       "      <th>Artist</th>\n",
       "      <th>Album Title</th>\n",
       "      <th>Listening Time</th>\n",
       "      <th>Tags</th>\n",
       "    </tr>\n",
       "  </thead>\n",
       "  <tbody>\n",
       "    <tr>\n",
       "      <th>0</th>\n",
       "      <td>2024-12-03 18:02:15</td>\n",
       "      <td>Cirice</td>\n",
       "      <td>Ghost</td>\n",
       "      <td>Meliora</td>\n",
       "      <td>53</td>\n",
       "      <td>[heavy metal, doom metal, metal, 2015, hard rock]</td>\n",
       "    </tr>\n",
       "    <tr>\n",
       "      <th>1</th>\n",
       "      <td>2024-12-03 16:29:51</td>\n",
       "      <td>I Love Rock 'N Roll</td>\n",
       "      <td>Joan Jett and the Blackhearts</td>\n",
       "      <td>I Love Rock 'N' Roll (Expanded Edition)</td>\n",
       "      <td>175</td>\n",
       "      <td>[rock, 80s, classic rock, female vocalists, ha...</td>\n",
       "    </tr>\n",
       "    <tr>\n",
       "      <th>2</th>\n",
       "      <td>2024-12-03 16:26:56</td>\n",
       "      <td>Wish I Had an Angel</td>\n",
       "      <td>Nightwish</td>\n",
       "      <td>Once</td>\n",
       "      <td>245</td>\n",
       "      <td>[symphonic metal, Gothic Metal, metal, Power m...</td>\n",
       "    </tr>\n",
       "    <tr>\n",
       "      <th>3</th>\n",
       "      <td>2024-12-03 16:22:51</td>\n",
       "      <td>Something To Hide</td>\n",
       "      <td>Grandson</td>\n",
       "      <td>Something To Hide</td>\n",
       "      <td>119</td>\n",
       "      <td>[my top songs]</td>\n",
       "    </tr>\n",
       "    <tr>\n",
       "      <th>4</th>\n",
       "      <td>2024-12-03 16:20:42</td>\n",
       "      <td>Monster</td>\n",
       "      <td>PVRIS</td>\n",
       "      <td>Monster</td>\n",
       "      <td>178</td>\n",
       "      <td>[alternative rock, electronic rock, Hip-Hop, e...</td>\n",
       "    </tr>\n",
       "  </tbody>\n",
       "</table>\n",
       "</div>"
      ]
     },
     "execution_count": 19,
     "metadata": {},
     "output_type": "execute_result"
    }
   ],
   "execution_count": 19
  },
  {
   "metadata": {},
   "cell_type": "markdown",
   "source": "## Explore within time interval",
   "id": "ddb8bdc763f572d9"
  },
  {
   "metadata": {},
   "cell_type": "markdown",
   "source": "We can filter the data based on a specific date interval to analyze the listening habits of the user during that period.",
   "id": "ee19492d5c18a710"
  },
  {
   "metadata": {
    "ExecuteTime": {
     "end_time": "2025-01-07T16:21:20.719905Z",
     "start_time": "2025-01-07T16:21:20.706382Z"
    }
   },
   "cell_type": "code",
   "source": [
    "# Define the date interval\n",
    "start_date = \"2024-01-01\"\n",
    "end_date = \"2025-01-31\"\n",
    "\n",
    "# Filter the DataFrame\n",
    "date_filtered_df = df[(df['Date'] >= start_date) & (df['Date'] <= end_date)]"
   ],
   "id": "f87692030845bd85",
   "outputs": [],
   "execution_count": 20
  },
  {
   "metadata": {},
   "cell_type": "markdown",
   "source": "Now that we have filtered the data based on the specified date interval, we can proceed with the extraction of some statistics.",
   "id": "b039df70cec80e67"
  },
  {
   "metadata": {},
   "cell_type": "markdown",
   "source": "## Top Artists (based on listening time)",
   "id": "6e3f3461dfa0bfc7"
  },
  {
   "metadata": {},
   "cell_type": "markdown",
   "source": "We can calculate the total listening time for each artist and identify the top artists based on this metric.",
   "id": "8408e87404f82632"
  },
  {
   "metadata": {
    "ExecuteTime": {
     "end_time": "2025-01-07T16:23:42.386136Z",
     "start_time": "2025-01-07T16:23:42.361218Z"
    }
   },
   "cell_type": "code",
   "source": [
    "artist_listening_time = date_filtered_df.groupby('Artist')['Listening Time'].sum().reset_index(name='Total Listening Time')\n",
    "artist_listening_time.sort_values(\"Total Listening Time\", ascending=False, inplace=True)\n",
    "artist_listening_time.head(5)"
   ],
   "id": "3d335e370d826971",
   "outputs": [
    {
     "data": {
      "text/plain": [
       "              Artist  Total Listening Time\n",
       "129         Grandson                 43328\n",
       "141  Imagine Dragons                 40106\n",
       "296          Starset                 36294\n",
       "131        Green Day                 18743\n",
       "308        Sub Urban                 17903"
      ],
      "text/html": [
       "<div>\n",
       "<style scoped>\n",
       "    .dataframe tbody tr th:only-of-type {\n",
       "        vertical-align: middle;\n",
       "    }\n",
       "\n",
       "    .dataframe tbody tr th {\n",
       "        vertical-align: top;\n",
       "    }\n",
       "\n",
       "    .dataframe thead th {\n",
       "        text-align: right;\n",
       "    }\n",
       "</style>\n",
       "<table border=\"1\" class=\"dataframe\">\n",
       "  <thead>\n",
       "    <tr style=\"text-align: right;\">\n",
       "      <th></th>\n",
       "      <th>Artist</th>\n",
       "      <th>Total Listening Time</th>\n",
       "    </tr>\n",
       "  </thead>\n",
       "  <tbody>\n",
       "    <tr>\n",
       "      <th>129</th>\n",
       "      <td>Grandson</td>\n",
       "      <td>43328</td>\n",
       "    </tr>\n",
       "    <tr>\n",
       "      <th>141</th>\n",
       "      <td>Imagine Dragons</td>\n",
       "      <td>40106</td>\n",
       "    </tr>\n",
       "    <tr>\n",
       "      <th>296</th>\n",
       "      <td>Starset</td>\n",
       "      <td>36294</td>\n",
       "    </tr>\n",
       "    <tr>\n",
       "      <th>131</th>\n",
       "      <td>Green Day</td>\n",
       "      <td>18743</td>\n",
       "    </tr>\n",
       "    <tr>\n",
       "      <th>308</th>\n",
       "      <td>Sub Urban</td>\n",
       "      <td>17903</td>\n",
       "    </tr>\n",
       "  </tbody>\n",
       "</table>\n",
       "</div>"
      ]
     },
     "execution_count": 25,
     "metadata": {},
     "output_type": "execute_result"
    }
   ],
   "execution_count": 25
  },
  {
   "metadata": {},
   "cell_type": "markdown",
   "source": "## Top Artists (based on listening count)",
   "id": "45b2397987d9fbdc"
  },
  {
   "metadata": {},
   "cell_type": "markdown",
   "source": "We can also calculate the total number of tracks listened to for each artist and identify the top artists based on this metric.",
   "id": "851a5fdf12be230d"
  },
  {
   "metadata": {
    "ExecuteTime": {
     "end_time": "2025-01-07T16:23:44.836544Z",
     "start_time": "2025-01-07T16:23:44.823446Z"
    }
   },
   "cell_type": "code",
   "source": [
    "artist_listening_count = date_filtered_df.groupby('Artist').size().reset_index(name='Total Artists Listening Count')\n",
    "artist_listening_count.sort_values(\"Total Artists Listening Count\", ascending=False, inplace=True)\n",
    "artist_listening_count.head(5)"
   ],
   "id": "9362a6307f553194",
   "outputs": [
    {
     "data": {
      "text/plain": [
       "              Artist  Total Artists Listening Count\n",
       "141  Imagine Dragons                            285\n",
       "129         Grandson                            261\n",
       "296          Starset                            168\n",
       "186      Linkin Park                            138\n",
       "104   Ethan Bortnick                            116"
      ],
      "text/html": [
       "<div>\n",
       "<style scoped>\n",
       "    .dataframe tbody tr th:only-of-type {\n",
       "        vertical-align: middle;\n",
       "    }\n",
       "\n",
       "    .dataframe tbody tr th {\n",
       "        vertical-align: top;\n",
       "    }\n",
       "\n",
       "    .dataframe thead th {\n",
       "        text-align: right;\n",
       "    }\n",
       "</style>\n",
       "<table border=\"1\" class=\"dataframe\">\n",
       "  <thead>\n",
       "    <tr style=\"text-align: right;\">\n",
       "      <th></th>\n",
       "      <th>Artist</th>\n",
       "      <th>Total Artists Listening Count</th>\n",
       "    </tr>\n",
       "  </thead>\n",
       "  <tbody>\n",
       "    <tr>\n",
       "      <th>141</th>\n",
       "      <td>Imagine Dragons</td>\n",
       "      <td>285</td>\n",
       "    </tr>\n",
       "    <tr>\n",
       "      <th>129</th>\n",
       "      <td>Grandson</td>\n",
       "      <td>261</td>\n",
       "    </tr>\n",
       "    <tr>\n",
       "      <th>296</th>\n",
       "      <td>Starset</td>\n",
       "      <td>168</td>\n",
       "    </tr>\n",
       "    <tr>\n",
       "      <th>186</th>\n",
       "      <td>Linkin Park</td>\n",
       "      <td>138</td>\n",
       "    </tr>\n",
       "    <tr>\n",
       "      <th>104</th>\n",
       "      <td>Ethan Bortnick</td>\n",
       "      <td>116</td>\n",
       "    </tr>\n",
       "  </tbody>\n",
       "</table>\n",
       "</div>"
      ]
     },
     "execution_count": 26,
     "metadata": {},
     "output_type": "execute_result"
    }
   ],
   "execution_count": 26
  },
  {
   "metadata": {},
   "cell_type": "markdown",
   "source": "## Top Genres (Based on Listening Time)",
   "id": "b1bd7e6278b48218"
  },
  {
   "metadata": {},
   "cell_type": "markdown",
   "source": "We can analyze the top genres based on the total listening time for each genre.",
   "id": "c2b98a0e2e006673"
  },
  {
   "metadata": {
    "ExecuteTime": {
     "end_time": "2025-01-07T16:24:40.428310Z",
     "start_time": "2025-01-07T16:24:40.396918Z"
    }
   },
   "cell_type": "code",
   "source": [
    "# Step 1: Expand the DataFrame\n",
    "expanded_df = date_filtered_df.explode(\"Tags\")  # Creates one row per genre\n",
    "# Step 2: Aggregate by genre\n",
    "genre_time = expanded_df.groupby(\"Tags\")[\"Listening Time\"].sum().reset_index()\n",
    "# Step 3: Sort by total listening time\n",
    "genre_time.sort_values(by=\"Listening Time\", ascending=False, inplace=True)\n",
    "# Display the top genres\n",
    "genre_time.head(5)"
   ],
   "id": "df7625a46ecbae57",
   "outputs": [
    {
     "data": {
      "text/plain": [
       "                 Tags  Listening Time\n",
       "358              rock          337503\n",
       "146       alternative          230041\n",
       "151  alternative rock          198391\n",
       "265         hard rock           93412\n",
       "334               pop           86592"
      ],
      "text/html": [
       "<div>\n",
       "<style scoped>\n",
       "    .dataframe tbody tr th:only-of-type {\n",
       "        vertical-align: middle;\n",
       "    }\n",
       "\n",
       "    .dataframe tbody tr th {\n",
       "        vertical-align: top;\n",
       "    }\n",
       "\n",
       "    .dataframe thead th {\n",
       "        text-align: right;\n",
       "    }\n",
       "</style>\n",
       "<table border=\"1\" class=\"dataframe\">\n",
       "  <thead>\n",
       "    <tr style=\"text-align: right;\">\n",
       "      <th></th>\n",
       "      <th>Tags</th>\n",
       "      <th>Listening Time</th>\n",
       "    </tr>\n",
       "  </thead>\n",
       "  <tbody>\n",
       "    <tr>\n",
       "      <th>358</th>\n",
       "      <td>rock</td>\n",
       "      <td>337503</td>\n",
       "    </tr>\n",
       "    <tr>\n",
       "      <th>146</th>\n",
       "      <td>alternative</td>\n",
       "      <td>230041</td>\n",
       "    </tr>\n",
       "    <tr>\n",
       "      <th>151</th>\n",
       "      <td>alternative rock</td>\n",
       "      <td>198391</td>\n",
       "    </tr>\n",
       "    <tr>\n",
       "      <th>265</th>\n",
       "      <td>hard rock</td>\n",
       "      <td>93412</td>\n",
       "    </tr>\n",
       "    <tr>\n",
       "      <th>334</th>\n",
       "      <td>pop</td>\n",
       "      <td>86592</td>\n",
       "    </tr>\n",
       "  </tbody>\n",
       "</table>\n",
       "</div>"
      ]
     },
     "execution_count": 29,
     "metadata": {},
     "output_type": "execute_result"
    }
   ],
   "execution_count": 29
  },
  {
   "metadata": {},
   "cell_type": "markdown",
   "source": "## Top Tracks (Based on Listening Time)",
   "id": "832ec3546c370e4b"
  },
  {
   "metadata": {},
   "cell_type": "markdown",
   "source": "We can identify the top tracks based on the total listening time for each track.",
   "id": "379336de972d8b1e"
  },
  {
   "metadata": {
    "ExecuteTime": {
     "end_time": "2025-01-07T16:25:05.178555Z",
     "start_time": "2025-01-07T16:25:05.155514Z"
    }
   },
   "cell_type": "code",
   "source": [
    "artist_listening_time = date_filtered_df.groupby('Song Title')['Listening Time'].sum().reset_index(name='Total Listening Time')\n",
    "artist_listening_time.sort_values(\"Total Listening Time\", ascending=False, inplace=True)\n",
    "artist_listening_time.head(5)"
   ],
   "id": "8c2c759d19155d16",
   "outputs": [
    {
     "data": {
      "text/plain": [
       "                               Song Title  Total Listening Time\n",
       "208  Holiday / Boulevard of Broken Dreams                 10185\n",
       "321                               Monster                  9603\n",
       "326                             My Demons                  9577\n",
       "250                          It Has Begun                  9496\n",
       "367                         Pull Me Under                  8727"
      ],
      "text/html": [
       "<div>\n",
       "<style scoped>\n",
       "    .dataframe tbody tr th:only-of-type {\n",
       "        vertical-align: middle;\n",
       "    }\n",
       "\n",
       "    .dataframe tbody tr th {\n",
       "        vertical-align: top;\n",
       "    }\n",
       "\n",
       "    .dataframe thead th {\n",
       "        text-align: right;\n",
       "    }\n",
       "</style>\n",
       "<table border=\"1\" class=\"dataframe\">\n",
       "  <thead>\n",
       "    <tr style=\"text-align: right;\">\n",
       "      <th></th>\n",
       "      <th>Song Title</th>\n",
       "      <th>Total Listening Time</th>\n",
       "    </tr>\n",
       "  </thead>\n",
       "  <tbody>\n",
       "    <tr>\n",
       "      <th>208</th>\n",
       "      <td>Holiday / Boulevard of Broken Dreams</td>\n",
       "      <td>10185</td>\n",
       "    </tr>\n",
       "    <tr>\n",
       "      <th>321</th>\n",
       "      <td>Monster</td>\n",
       "      <td>9603</td>\n",
       "    </tr>\n",
       "    <tr>\n",
       "      <th>326</th>\n",
       "      <td>My Demons</td>\n",
       "      <td>9577</td>\n",
       "    </tr>\n",
       "    <tr>\n",
       "      <th>250</th>\n",
       "      <td>It Has Begun</td>\n",
       "      <td>9496</td>\n",
       "    </tr>\n",
       "    <tr>\n",
       "      <th>367</th>\n",
       "      <td>Pull Me Under</td>\n",
       "      <td>8727</td>\n",
       "    </tr>\n",
       "  </tbody>\n",
       "</table>\n",
       "</div>"
      ]
     },
     "execution_count": 30,
     "metadata": {},
     "output_type": "execute_result"
    }
   ],
   "execution_count": 30
  },
  {
   "metadata": {},
   "cell_type": "markdown",
   "source": "## Top Tracks (Based on Play Count)",
   "id": "e05b484aa39fef61"
  },
  {
   "metadata": {},
   "cell_type": "markdown",
   "source": "We can also identify the top tracks based on the total number of times they were played.",
   "id": "da6c01e3c43af607"
  },
  {
   "metadata": {
    "ExecuteTime": {
     "end_time": "2025-01-07T16:25:27.988427Z",
     "start_time": "2025-01-07T16:25:27.961316Z"
    }
   },
   "cell_type": "code",
   "source": [
    "artist_listening_count = date_filtered_df.groupby('Song Title').size().reset_index(name='Total Artists Listening Count')\n",
    "artist_listening_count.sort_values(\"Total Artists Listening Count\", ascending=False, inplace=True)\n",
    "artist_listening_count.head(5)"
   ],
   "id": "59cd359c4667e60",
   "outputs": [
    {
     "data": {
      "text/plain": [
       "                                            Song Title  \\\n",
       "546                                 cut my fingers off   \n",
       "173                                           Gasoline   \n",
       "321                                            Monster   \n",
       "77                                             Carsick   \n",
       "484  To Ashes and Blood (from the series Arcane Lea...   \n",
       "\n",
       "     Total Artists Listening Count  \n",
       "546                             90  \n",
       "173                             69  \n",
       "321                             62  \n",
       "77                              62  \n",
       "484                             47  "
      ],
      "text/html": [
       "<div>\n",
       "<style scoped>\n",
       "    .dataframe tbody tr th:only-of-type {\n",
       "        vertical-align: middle;\n",
       "    }\n",
       "\n",
       "    .dataframe tbody tr th {\n",
       "        vertical-align: top;\n",
       "    }\n",
       "\n",
       "    .dataframe thead th {\n",
       "        text-align: right;\n",
       "    }\n",
       "</style>\n",
       "<table border=\"1\" class=\"dataframe\">\n",
       "  <thead>\n",
       "    <tr style=\"text-align: right;\">\n",
       "      <th></th>\n",
       "      <th>Song Title</th>\n",
       "      <th>Total Artists Listening Count</th>\n",
       "    </tr>\n",
       "  </thead>\n",
       "  <tbody>\n",
       "    <tr>\n",
       "      <th>546</th>\n",
       "      <td>cut my fingers off</td>\n",
       "      <td>90</td>\n",
       "    </tr>\n",
       "    <tr>\n",
       "      <th>173</th>\n",
       "      <td>Gasoline</td>\n",
       "      <td>69</td>\n",
       "    </tr>\n",
       "    <tr>\n",
       "      <th>321</th>\n",
       "      <td>Monster</td>\n",
       "      <td>62</td>\n",
       "    </tr>\n",
       "    <tr>\n",
       "      <th>77</th>\n",
       "      <td>Carsick</td>\n",
       "      <td>62</td>\n",
       "    </tr>\n",
       "    <tr>\n",
       "      <th>484</th>\n",
       "      <td>To Ashes and Blood (from the series Arcane Lea...</td>\n",
       "      <td>47</td>\n",
       "    </tr>\n",
       "  </tbody>\n",
       "</table>\n",
       "</div>"
      ]
     },
     "execution_count": 31,
     "metadata": {},
     "output_type": "execute_result"
    }
   ],
   "execution_count": 31
  },
  {
   "metadata": {},
   "cell_type": "markdown",
   "source": "## Daily Listening Time",
   "id": "e4d648ecb9c78d6e"
  },
  {
   "metadata": {},
   "cell_type": "markdown",
   "source": "This section aims to provide insights into the daily listening habits of the user. We will calculate the total listening time for each day. The following code snippet demonstrates the process.",
   "id": "58a3f27de1879e2a"
  },
  {
   "metadata": {
    "ExecuteTime": {
     "end_time": "2025-01-07T16:30:19.444889Z",
     "start_time": "2025-01-07T16:30:19.405183Z"
    }
   },
   "cell_type": "code",
   "source": [
    "# Copy the original DataFrame\n",
    "df_daily = df.copy()\n",
    "\n",
    "# Ensure 'Date' column is in datetime format and convert to just date\n",
    "df_daily['Date'] = pd.to_datetime(df_daily['Date']).dt.date\n",
    "\n",
    "# Group by Date and calculate total Listening Time\n",
    "daily_listening_time = (\n",
    "    df_daily.groupby('Date', as_index=False)['Listening Time']\n",
    "    .sum()\n",
    "    .sort_values('Date', ascending=False)\n",
    ")\n",
    "\n",
    "# Generate the full range of dates\n",
    "min_date = daily_listening_time['Date'].min()\n",
    "max_date = daily_listening_time['Date'].max()\n",
    "date_range = pd.date_range(start=min_date, end=max_date).date  # Create a list of all dates\n",
    "\n",
    "# Reindex to include all dates and fill missing values with 0\n",
    "daily_listening_time.set_index('Date', inplace=True)  \n",
    "daily_listening_time = daily_listening_time.reindex(date_range, fill_value=0)  \n",
    "daily_listening_time.index.name = 'Date'  # Set index name back to 'Date'\n",
    "\n",
    "# Reset the index and return to a flat structure\n",
    "daily_listening_time.reset_index(inplace=True)\n",
    "\n",
    "# Sort the DataFrame in descending order by date\n",
    "daily_listening_time.rename(columns={\"index\": \"Date\"}, inplace=True)\n",
    "daily_listening_time.sort_values('Date', ascending=False, inplace=True)\n",
    "\n",
    "# Display the top 15 rows\n",
    "daily_listening_time.head(15)\n"
   ],
   "id": "7d6e2e50e925298a",
   "outputs": [
    {
     "data": {
      "text/plain": [
       "            Date  Listening Time\n",
       "3453  2024-12-03           10212\n",
       "3452  2024-12-02             566\n",
       "3451  2024-12-01           12263\n",
       "3450  2024-11-30           11029\n",
       "3449  2024-11-29            7703\n",
       "3448  2024-11-28            1965\n",
       "3447  2024-11-27            3095\n",
       "3446  2024-11-26             944\n",
       "3445  2024-11-25               0\n",
       "3444  2024-11-24               0\n",
       "3443  2024-11-23               0\n",
       "3442  2024-11-22             197\n",
       "3441  2024-11-21            2417\n",
       "3440  2024-11-20            4155\n",
       "3439  2024-11-19            3285"
      ],
      "text/html": [
       "<div>\n",
       "<style scoped>\n",
       "    .dataframe tbody tr th:only-of-type {\n",
       "        vertical-align: middle;\n",
       "    }\n",
       "\n",
       "    .dataframe tbody tr th {\n",
       "        vertical-align: top;\n",
       "    }\n",
       "\n",
       "    .dataframe thead th {\n",
       "        text-align: right;\n",
       "    }\n",
       "</style>\n",
       "<table border=\"1\" class=\"dataframe\">\n",
       "  <thead>\n",
       "    <tr style=\"text-align: right;\">\n",
       "      <th></th>\n",
       "      <th>Date</th>\n",
       "      <th>Listening Time</th>\n",
       "    </tr>\n",
       "  </thead>\n",
       "  <tbody>\n",
       "    <tr>\n",
       "      <th>3453</th>\n",
       "      <td>2024-12-03</td>\n",
       "      <td>10212</td>\n",
       "    </tr>\n",
       "    <tr>\n",
       "      <th>3452</th>\n",
       "      <td>2024-12-02</td>\n",
       "      <td>566</td>\n",
       "    </tr>\n",
       "    <tr>\n",
       "      <th>3451</th>\n",
       "      <td>2024-12-01</td>\n",
       "      <td>12263</td>\n",
       "    </tr>\n",
       "    <tr>\n",
       "      <th>3450</th>\n",
       "      <td>2024-11-30</td>\n",
       "      <td>11029</td>\n",
       "    </tr>\n",
       "    <tr>\n",
       "      <th>3449</th>\n",
       "      <td>2024-11-29</td>\n",
       "      <td>7703</td>\n",
       "    </tr>\n",
       "    <tr>\n",
       "      <th>3448</th>\n",
       "      <td>2024-11-28</td>\n",
       "      <td>1965</td>\n",
       "    </tr>\n",
       "    <tr>\n",
       "      <th>3447</th>\n",
       "      <td>2024-11-27</td>\n",
       "      <td>3095</td>\n",
       "    </tr>\n",
       "    <tr>\n",
       "      <th>3446</th>\n",
       "      <td>2024-11-26</td>\n",
       "      <td>944</td>\n",
       "    </tr>\n",
       "    <tr>\n",
       "      <th>3445</th>\n",
       "      <td>2024-11-25</td>\n",
       "      <td>0</td>\n",
       "    </tr>\n",
       "    <tr>\n",
       "      <th>3444</th>\n",
       "      <td>2024-11-24</td>\n",
       "      <td>0</td>\n",
       "    </tr>\n",
       "    <tr>\n",
       "      <th>3443</th>\n",
       "      <td>2024-11-23</td>\n",
       "      <td>0</td>\n",
       "    </tr>\n",
       "    <tr>\n",
       "      <th>3442</th>\n",
       "      <td>2024-11-22</td>\n",
       "      <td>197</td>\n",
       "    </tr>\n",
       "    <tr>\n",
       "      <th>3441</th>\n",
       "      <td>2024-11-21</td>\n",
       "      <td>2417</td>\n",
       "    </tr>\n",
       "    <tr>\n",
       "      <th>3440</th>\n",
       "      <td>2024-11-20</td>\n",
       "      <td>4155</td>\n",
       "    </tr>\n",
       "    <tr>\n",
       "      <th>3439</th>\n",
       "      <td>2024-11-19</td>\n",
       "      <td>3285</td>\n",
       "    </tr>\n",
       "  </tbody>\n",
       "</table>\n",
       "</div>"
      ]
     },
     "execution_count": 40,
     "metadata": {},
     "output_type": "execute_result"
    }
   ],
   "execution_count": 40
  },
  {
   "metadata": {},
   "cell_type": "markdown",
   "source": "## Average Monthly Listening Time",
   "id": "f0789765dd335687"
  },
  {
   "metadata": {},
   "cell_type": "markdown",
   "source": "This section aims to provide insights into the average monthly listening time of the user. We will calculate the average listening time per month and display the results. This stat is computed across all years in the dataset.",
   "id": "b78f862f760110a3"
  },
  {
   "metadata": {
    "ExecuteTime": {
     "end_time": "2025-01-07T16:35:28.300601Z",
     "start_time": "2025-01-07T16:35:28.268188Z"
    }
   },
   "cell_type": "code",
   "source": [
    "df_monthly = df.copy()\n",
    "# Extract year and month\n",
    "df_monthly['Year'] = df['Date'].dt.year\n",
    "df_monthly['Month'] = df['Date'].dt.month_name()\n",
    "# Group by Year and Month to calculate monthly sums\n",
    "monthly_sums = df_monthly.groupby(['Year', 'Month'], sort=False)['Listening Time'].sum().reset_index()\n",
    "# Group by Month to calculate the average of monthly sums\n",
    "average_monthly_sums = monthly_sums.groupby('Month', sort=False)['Listening Time'].mean()\n",
    "# Ensure months are in calendar order\n",
    "calendar_order = [\n",
    "    'January', 'February', 'March', 'April', 'May', 'June', \n",
    "    'July', 'August', 'September', 'October', 'November', 'December'\n",
    "]\n",
    "average_monthly_sums = average_monthly_sums.reindex(calendar_order)\n",
    "\n",
    "average_monthly_sums"
   ],
   "id": "c8b7c237c87b0b81",
   "outputs": [
    {
     "data": {
      "text/plain": [
       "Month\n",
       "January      58469.857143\n",
       "February     55076.333333\n",
       "March        56511.714286\n",
       "April        67287.142857\n",
       "May          55616.857143\n",
       "June         37841.555556\n",
       "July         61056.333333\n",
       "August       36617.375000\n",
       "September    72816.555556\n",
       "October      63333.625000\n",
       "November     56088.888889\n",
       "December     46058.000000\n",
       "Name: Listening Time, dtype: float64"
      ]
     },
     "execution_count": 44,
     "metadata": {},
     "output_type": "execute_result"
    }
   ],
   "execution_count": 44
  },
  {
   "metadata": {},
   "cell_type": "markdown",
   "source": "## Average Hourly Listening Time",
   "id": "3a80f82471bd941"
  },
  {
   "metadata": {},
   "cell_type": "markdown",
   "source": "This section aims to provide insights into the average hourly listening time of the user. We will calculate the average listening time per hour and display the results. Unlike the daily listening time, this stat is computed across all days within the time interval.",
   "id": "1a598b1c67c394a1"
  },
  {
   "metadata": {
    "ExecuteTime": {
     "end_time": "2025-01-07T16:38:26.383982Z",
     "start_time": "2025-01-07T16:38:26.355420Z"
    }
   },
   "cell_type": "code",
   "source": [
    "df_hourly = date_filtered_df.copy()\n",
    "\n",
    "# Extract the hour\n",
    "df_hourly['Hour'] = df_hourly['Date'].dt.hour\n",
    "\n",
    "# Determine the min and max date\n",
    "min_date = df_hourly['Date'].min()\n",
    "max_date = df_hourly['Date'].max()\n",
    "\n",
    "# Calculate the total number of days (inclusive)\n",
    "total_days = (max_date - min_date).days + 1\n",
    "\n",
    "# Create a placeholder for all hours across all days in the observation period\n",
    "all_hours = pd.DataFrame({'Hour': range(24)})\n",
    "\n",
    "# Aggregate total listening time per hour\n",
    "hourly_sums = df_hourly.groupby('Hour')['Listening Time'].sum().reset_index()\n",
    "\n",
    "# Merge to ensure every hour (0-23) is represented\n",
    "hourly_sums = pd.merge(all_hours, hourly_sums, on='Hour', how='left').fillna(0)\n",
    "\n",
    "# Compute the average listening time per hour (divide by total days)\n",
    "hourly_sums['Average Listening Time'] = hourly_sums['Listening Time'] / total_days\n",
    "hourly_sums"
   ],
   "id": "edc40b1d7a3989fa",
   "outputs": [
    {
     "data": {
      "text/plain": [
       "    Hour  Listening Time  Average Listening Time\n",
       "0      0            8913               26.526786\n",
       "1      1            4107               12.223214\n",
       "2      2             521                1.550595\n",
       "3      3              46                0.136905\n",
       "4      4             220                0.654762\n",
       "5      5           15450               45.982143\n",
       "6      6           17485               52.038690\n",
       "7      7           21665               64.479167\n",
       "8      8           17441               51.907738\n",
       "9      9           31028               92.345238\n",
       "10    10           55389              164.848214\n",
       "11    11           66234              197.125000\n",
       "12    12           52715              156.889881\n",
       "13    13           67080              199.642857\n",
       "14    14           70094              208.613095\n",
       "15    15           95622              284.589286\n",
       "16    16          100588              299.369048\n",
       "17    17           52419              156.008929\n",
       "18    18           49276              146.654762\n",
       "19    19           53043              157.866071\n",
       "20    20           32609               97.050595\n",
       "21    21           27196               80.940476\n",
       "22    22           15394               45.815476\n",
       "23    23           13302               39.589286"
      ],
      "text/html": [
       "<div>\n",
       "<style scoped>\n",
       "    .dataframe tbody tr th:only-of-type {\n",
       "        vertical-align: middle;\n",
       "    }\n",
       "\n",
       "    .dataframe tbody tr th {\n",
       "        vertical-align: top;\n",
       "    }\n",
       "\n",
       "    .dataframe thead th {\n",
       "        text-align: right;\n",
       "    }\n",
       "</style>\n",
       "<table border=\"1\" class=\"dataframe\">\n",
       "  <thead>\n",
       "    <tr style=\"text-align: right;\">\n",
       "      <th></th>\n",
       "      <th>Hour</th>\n",
       "      <th>Listening Time</th>\n",
       "      <th>Average Listening Time</th>\n",
       "    </tr>\n",
       "  </thead>\n",
       "  <tbody>\n",
       "    <tr>\n",
       "      <th>0</th>\n",
       "      <td>0</td>\n",
       "      <td>8913</td>\n",
       "      <td>26.526786</td>\n",
       "    </tr>\n",
       "    <tr>\n",
       "      <th>1</th>\n",
       "      <td>1</td>\n",
       "      <td>4107</td>\n",
       "      <td>12.223214</td>\n",
       "    </tr>\n",
       "    <tr>\n",
       "      <th>2</th>\n",
       "      <td>2</td>\n",
       "      <td>521</td>\n",
       "      <td>1.550595</td>\n",
       "    </tr>\n",
       "    <tr>\n",
       "      <th>3</th>\n",
       "      <td>3</td>\n",
       "      <td>46</td>\n",
       "      <td>0.136905</td>\n",
       "    </tr>\n",
       "    <tr>\n",
       "      <th>4</th>\n",
       "      <td>4</td>\n",
       "      <td>220</td>\n",
       "      <td>0.654762</td>\n",
       "    </tr>\n",
       "    <tr>\n",
       "      <th>5</th>\n",
       "      <td>5</td>\n",
       "      <td>15450</td>\n",
       "      <td>45.982143</td>\n",
       "    </tr>\n",
       "    <tr>\n",
       "      <th>6</th>\n",
       "      <td>6</td>\n",
       "      <td>17485</td>\n",
       "      <td>52.038690</td>\n",
       "    </tr>\n",
       "    <tr>\n",
       "      <th>7</th>\n",
       "      <td>7</td>\n",
       "      <td>21665</td>\n",
       "      <td>64.479167</td>\n",
       "    </tr>\n",
       "    <tr>\n",
       "      <th>8</th>\n",
       "      <td>8</td>\n",
       "      <td>17441</td>\n",
       "      <td>51.907738</td>\n",
       "    </tr>\n",
       "    <tr>\n",
       "      <th>9</th>\n",
       "      <td>9</td>\n",
       "      <td>31028</td>\n",
       "      <td>92.345238</td>\n",
       "    </tr>\n",
       "    <tr>\n",
       "      <th>10</th>\n",
       "      <td>10</td>\n",
       "      <td>55389</td>\n",
       "      <td>164.848214</td>\n",
       "    </tr>\n",
       "    <tr>\n",
       "      <th>11</th>\n",
       "      <td>11</td>\n",
       "      <td>66234</td>\n",
       "      <td>197.125000</td>\n",
       "    </tr>\n",
       "    <tr>\n",
       "      <th>12</th>\n",
       "      <td>12</td>\n",
       "      <td>52715</td>\n",
       "      <td>156.889881</td>\n",
       "    </tr>\n",
       "    <tr>\n",
       "      <th>13</th>\n",
       "      <td>13</td>\n",
       "      <td>67080</td>\n",
       "      <td>199.642857</td>\n",
       "    </tr>\n",
       "    <tr>\n",
       "      <th>14</th>\n",
       "      <td>14</td>\n",
       "      <td>70094</td>\n",
       "      <td>208.613095</td>\n",
       "    </tr>\n",
       "    <tr>\n",
       "      <th>15</th>\n",
       "      <td>15</td>\n",
       "      <td>95622</td>\n",
       "      <td>284.589286</td>\n",
       "    </tr>\n",
       "    <tr>\n",
       "      <th>16</th>\n",
       "      <td>16</td>\n",
       "      <td>100588</td>\n",
       "      <td>299.369048</td>\n",
       "    </tr>\n",
       "    <tr>\n",
       "      <th>17</th>\n",
       "      <td>17</td>\n",
       "      <td>52419</td>\n",
       "      <td>156.008929</td>\n",
       "    </tr>\n",
       "    <tr>\n",
       "      <th>18</th>\n",
       "      <td>18</td>\n",
       "      <td>49276</td>\n",
       "      <td>146.654762</td>\n",
       "    </tr>\n",
       "    <tr>\n",
       "      <th>19</th>\n",
       "      <td>19</td>\n",
       "      <td>53043</td>\n",
       "      <td>157.866071</td>\n",
       "    </tr>\n",
       "    <tr>\n",
       "      <th>20</th>\n",
       "      <td>20</td>\n",
       "      <td>32609</td>\n",
       "      <td>97.050595</td>\n",
       "    </tr>\n",
       "    <tr>\n",
       "      <th>21</th>\n",
       "      <td>21</td>\n",
       "      <td>27196</td>\n",
       "      <td>80.940476</td>\n",
       "    </tr>\n",
       "    <tr>\n",
       "      <th>22</th>\n",
       "      <td>22</td>\n",
       "      <td>15394</td>\n",
       "      <td>45.815476</td>\n",
       "    </tr>\n",
       "    <tr>\n",
       "      <th>23</th>\n",
       "      <td>23</td>\n",
       "      <td>13302</td>\n",
       "      <td>39.589286</td>\n",
       "    </tr>\n",
       "  </tbody>\n",
       "</table>\n",
       "</div>"
      ]
     },
     "execution_count": 47,
     "metadata": {},
     "output_type": "execute_result"
    }
   ],
   "execution_count": 47
  },
  {
   "metadata": {},
   "cell_type": "markdown",
   "source": "---- ",
   "id": "3c8421c02178cb4b"
  },
  {
   "metadata": {},
   "cell_type": "markdown",
   "source": "# Data Export",
   "id": "3f717016164a0acd"
  },
  {
   "metadata": {},
   "cell_type": "markdown",
   "source": "Now that we've played around with the data, we can export it to a JSON file for further processing and visualization. The JSON file will contain the following structure:",
   "id": "b38f3383e873d238"
  },
  {
   "metadata": {},
   "cell_type": "markdown",
   "source": [
    "```json\n",
    "{\n",
    "    \"users\": [\n",
    "        {\n",
    "            \"user_id\": \"user_id\",\n",
    "            \"username\": \"username\",\n",
    "            \"top_artists\": [\n",
    "                {\n",
    "                    \"start\": \"2024-11-22\",\n",
    "                    \"end\": \"2024-12-22\",\n",
    "                    \"label\": \"4 weeks\",\n",
    "                    \"count\": 15,\n",
    "                    \"ranking\": [\n",
    "                        {\n",
    "                            \"Artist\": \"artist_name\",\n",
    "                            \"Listening Time\": 12345\n",
    "                        },\n",
    "                        ...\n",
    "                    ]\n",
    "                },\n",
    "                ...\n",
    "            ],\n",
    "            \"top_genres\": [\n",
    "                {\n",
    "                    \"start\": \"2024-11-22\",\n",
    "                    \"end\": \"2024-12-22\",\n",
    "                    \"label\": \"4 weeks\",\n",
    "                    \"count\": 15,\n",
    "                    \"ranking\": [\n",
    "                        {\n",
    "                            \"Genre\": \"genre_name\",\n",
    "                            \"Listening Time\": 12345,\n",
    "                            \"list\": [\n",
    "                                {\n",
    "                                    \"Song Title\": \"song title - artist_name\",\n",
    "                                    \"Listening Time\": 12345\n",
    "                                },\n",
    "                                ...   \n",
    "                            ]\n",
    "                        },\n",
    "                        ...\n",
    "                    ]\n",
    "                },\n",
    "                ...\n",
    "            ],\n",
    "            \"top_tracks\": [\n",
    "                {\n",
    "                    \"start\": \"2024-11-22\",\n",
    "                    \"end\": \"2024-12-22\",\n",
    "                    \"label\": \"4 weeks\",\n",
    "                    \"count\": 15,\n",
    "                    \"ranking\": [\n",
    "                        {\n",
    "                            \"Song Title\": \"song title \",\n",
    "                            \"Artist\": \"artist_name\",  \n",
    "                            \"Listening Time\": 12345\n",
    "                        },\n",
    "                        ...\n",
    "                    ]\n",
    "                },\n",
    "                ... \n",
    "            ],\n",
    "            \"average_listening_time\": {\n",
    "                \"dataMonth\": [],\n",
    "                \"dataYear\": [],\n",
    "                \"dataDay\": []\n",
    "            }\n",
    "        }\n",
    "    ], \"merged_data\": {\n",
    "        \"dataMonth\": [],\n",
    "        \"dataYear\": [],\n",
    "        \"dataDay\": []\n",
    "    }\n",
    "}\n",
    "```"
   ],
   "id": "e952253d677480fc"
  },
  {
   "metadata": {},
   "cell_type": "markdown",
   "source": "We will now export the data to a JSON file using the structure defined above. The full implementation can be found in the `utils.py` file.",
   "id": "dd0e5abc6fee1ae8"
  },
  {
   "metadata": {},
   "cell_type": "markdown",
   "source": "--- ",
   "id": "5b81a09cd7629790"
  },
  {
   "metadata": {},
   "cell_type": "markdown",
   "source": "# Handling Spotify Data\n",
   "id": "e5ab0e0ec7946c7"
  },
  {
   "metadata": {},
   "cell_type": "markdown",
   "source": "We will now proceed with the extraction and processing of Spotify data. The data is loaded from the JSON files containing the listening history of the user.",
   "id": "9e96aaad85af6b39"
  },
  {
   "metadata": {
    "ExecuteTime": {
     "end_time": "2025-01-07T16:53:51.026325Z",
     "start_time": "2025-01-07T16:53:50.949897Z"
    }
   },
   "cell_type": "code",
   "source": [
    "df = pd.concat([\n",
    "    pd.read_json(\"data/Archive-Matthieu-Spotify/Spotify Account Data/StreamingHistory_music_0.json\"),\n",
    "    pd.read_json(\"data/Archive-Matthieu-Spotify/Spotify Account Data/StreamingHistory_music_1.json\"),\n",
    "    pd.read_json(\"data/Archive-Matthieu-Spotify/Spotify Account Data/StreamingHistory_music_2.json\")\n",
    "])"
   ],
   "id": "596bf336bc8298c0",
   "outputs": [],
   "execution_count": 56
  },
  {
   "metadata": {},
   "cell_type": "markdown",
   "source": "Some data cleaning and adjustments are required to prepare the data and make it consistent with the previous dataset. ",
   "id": "bf1467920cb2abc6"
  },
  {
   "metadata": {
    "ExecuteTime": {
     "end_time": "2025-01-07T16:53:52.334880Z",
     "start_time": "2025-01-07T16:53:52.293491Z"
    }
   },
   "cell_type": "code",
   "source": [
    "# Ensure datetime format\n",
    "df[\"endTime\"] = pd.to_datetime(df['endTime'])\n",
    "# Sort the data by date\n",
    "df.sort_values(\"endTime\", ascending=True, inplace=True)\n",
    "# Convert msPlayed to seconds\n",
    "df['msPlayed'] = (df[\"msPlayed\"] / 100).astype(int)\n",
    "# Drop negative listening time\n",
    "df = df[df[\"msPlayed\"] > 0]\n",
    "# Rename columns\n",
    "df.rename(columns={\"endTime\": \"Date\", \"artistName\": \"Artist\", \"trackName\": \"Song Title\", \"msPlayed\": \"Listening Time\"}, inplace=True)"
   ],
   "id": "5c03aad4e27db04b",
   "outputs": [],
   "execution_count": 57
  },
  {
   "metadata": {
    "ExecuteTime": {
     "end_time": "2025-01-07T16:53:53.951190Z",
     "start_time": "2025-01-07T16:53:53.936972Z"
    }
   },
   "cell_type": "code",
   "source": "df.head(5)",
   "id": "a0626ea0dacb649",
   "outputs": [
    {
     "data": {
      "text/plain": [
       "                 Date        Artist                     Song Title  \\\n",
       "0 2023-09-17 19:40:00           AJR  Sober Up (feat. Rivers Cuomo)   \n",
       "1 2023-12-04 17:07:00        Lecrae                They Ain’t Know   \n",
       "2 2023-12-05 01:01:00          gio.                        shadows   \n",
       "3 2023-12-05 07:09:00  Young Oceans                You Are Not Far   \n",
       "4 2023-12-05 07:13:00  Josiah Queen              Fishes and Loaves   \n",
       "\n",
       "   Listening Time  \n",
       "0              48  \n",
       "1             696  \n",
       "2             691  \n",
       "3            1346  \n",
       "4            2169  "
      ],
      "text/html": [
       "<div>\n",
       "<style scoped>\n",
       "    .dataframe tbody tr th:only-of-type {\n",
       "        vertical-align: middle;\n",
       "    }\n",
       "\n",
       "    .dataframe tbody tr th {\n",
       "        vertical-align: top;\n",
       "    }\n",
       "\n",
       "    .dataframe thead th {\n",
       "        text-align: right;\n",
       "    }\n",
       "</style>\n",
       "<table border=\"1\" class=\"dataframe\">\n",
       "  <thead>\n",
       "    <tr style=\"text-align: right;\">\n",
       "      <th></th>\n",
       "      <th>Date</th>\n",
       "      <th>Artist</th>\n",
       "      <th>Song Title</th>\n",
       "      <th>Listening Time</th>\n",
       "    </tr>\n",
       "  </thead>\n",
       "  <tbody>\n",
       "    <tr>\n",
       "      <th>0</th>\n",
       "      <td>2023-09-17 19:40:00</td>\n",
       "      <td>AJR</td>\n",
       "      <td>Sober Up (feat. Rivers Cuomo)</td>\n",
       "      <td>48</td>\n",
       "    </tr>\n",
       "    <tr>\n",
       "      <th>1</th>\n",
       "      <td>2023-12-04 17:07:00</td>\n",
       "      <td>Lecrae</td>\n",
       "      <td>They Ain’t Know</td>\n",
       "      <td>696</td>\n",
       "    </tr>\n",
       "    <tr>\n",
       "      <th>2</th>\n",
       "      <td>2023-12-05 01:01:00</td>\n",
       "      <td>gio.</td>\n",
       "      <td>shadows</td>\n",
       "      <td>691</td>\n",
       "    </tr>\n",
       "    <tr>\n",
       "      <th>3</th>\n",
       "      <td>2023-12-05 07:09:00</td>\n",
       "      <td>Young Oceans</td>\n",
       "      <td>You Are Not Far</td>\n",
       "      <td>1346</td>\n",
       "    </tr>\n",
       "    <tr>\n",
       "      <th>4</th>\n",
       "      <td>2023-12-05 07:13:00</td>\n",
       "      <td>Josiah Queen</td>\n",
       "      <td>Fishes and Loaves</td>\n",
       "      <td>2169</td>\n",
       "    </tr>\n",
       "  </tbody>\n",
       "</table>\n",
       "</div>"
      ]
     },
     "execution_count": 58,
     "metadata": {},
     "output_type": "execute_result"
    }
   ],
   "execution_count": 58
  },
  {
   "metadata": {},
   "cell_type": "markdown",
   "source": "Since it follows the same structure as the Deezer data, we can proceed with the same steps to extract the tags using the LastFM API. Then we can export the data to a CSV and use it for the analysis.",
   "id": "f721d9b5d2d8edbe"
  },
  {
   "metadata": {},
   "cell_type": "markdown",
   "source": "## Youtube Music Data",
   "id": "b743eff2f4ae1063"
  },
  {
   "metadata": {},
   "cell_type": "markdown",
   "source": [
    "We will now proceed with the extraction and processing of YouTube Music data. The data is loaded from the JSON file containing the listening history of the user.\n",
    "\n",
    "Additional data cleaning and adjustments are required to prepare the data and make it consistent with the previous datasets."
   ],
   "id": "881790f739dd2cdd"
  },
  {
   "metadata": {
    "ExecuteTime": {
     "end_time": "2025-01-07T17:55:25.289457Z",
     "start_time": "2025-01-07T17:55:25.044426Z"
    }
   },
   "cell_type": "code",
   "source": "df = pd.read_json(\"data/Archive-Thomas-Youtube-Music/Thomas-Youtube-history.json\")",
   "id": "c02d947e1dcf7097",
   "outputs": [],
   "execution_count": 36
  },
  {
   "metadata": {
    "ExecuteTime": {
     "end_time": "2025-01-07T17:55:25.462525Z",
     "start_time": "2025-01-07T17:55:25.310301Z"
    }
   },
   "cell_type": "code",
   "source": [
    "# Filter out non-music entries\n",
    "df = df[df['header'].str.contains(\"Music\")]\n",
    "# Convert the 'subtitles' column from a string to a list of dictionaries\n",
    "df[\"Song Title\"] = df[\"title\"].apply(lambda x: re.sub(\"Vous avez regardé \", \"\", x))\n",
    "# drop subtitles float columns\n",
    "df = df[df['subtitles'].notna()]\n",
    "# Extract the artist name from the 'subtitles' column\n",
    "df[\"Artist\"] = df[\"subtitles\"].apply(lambda x: re.sub(\" - Topic\", \"\", x[0]['name']))\n",
    "# Convert the 'time' column to datetime format\n",
    "df['Date'] = pd.to_datetime(df['time'], format=\"mixed\")\n",
    "df['Date'] = df['Date'].dt.tz_convert('Europe/Paris')\n",
    "# Drop unnecessary columns\n",
    "df.drop(columns=[\"activityControls\", \"products\", \"titleUrl\", 'header', \"subtitles\", \"time\", \"title\"], inplace=True)"
   ],
   "id": "62f5772f46a14469",
   "outputs": [],
   "execution_count": 37
  },
  {
   "metadata": {},
   "cell_type": "markdown",
   "source": "Unfortunately, the YouTube Music data does not provide the listening time for each track. As a result, we will set the listening time to 0 for all entries in this dataset.",
   "id": "6f8289b9dc859966"
  },
  {
   "metadata": {
    "ExecuteTime": {
     "end_time": "2025-01-07T17:55:27.769535Z",
     "start_time": "2025-01-07T17:55:27.750450Z"
    }
   },
   "cell_type": "code",
   "source": "df['Listening Time'] = 0",
   "id": "4ade8688eff7bb66",
   "outputs": [],
   "execution_count": 38
  },
  {
   "metadata": {
    "ExecuteTime": {
     "end_time": "2025-01-07T17:55:27.971451Z",
     "start_time": "2025-01-07T17:55:27.953644Z"
    }
   },
   "cell_type": "code",
   "source": "df.head(5)",
   "id": "544d8fa0d359d5f4",
   "outputs": [
    {
     "data": {
      "text/plain": [
       "    Song Title          Artist                             Date  \\\n",
       "0     Personne           47Ter 2024-12-04 13:56:40.714000+01:00   \n",
       "1    La vérité           Fredz 2024-12-04 13:54:20.071000+01:00   \n",
       "2         Doss           47Ter 2024-12-04 13:50:47.128000+01:00   \n",
       "121       Swim  Chase Atlantic 2024-12-03 20:02:43.415000+01:00   \n",
       "122   RICOCHET  Chase Atlantic 2024-12-03 19:59:48.639000+01:00   \n",
       "\n",
       "     Listening Time  \n",
       "0                 0  \n",
       "1                 0  \n",
       "2                 0  \n",
       "121               0  \n",
       "122               0  "
      ],
      "text/html": [
       "<div>\n",
       "<style scoped>\n",
       "    .dataframe tbody tr th:only-of-type {\n",
       "        vertical-align: middle;\n",
       "    }\n",
       "\n",
       "    .dataframe tbody tr th {\n",
       "        vertical-align: top;\n",
       "    }\n",
       "\n",
       "    .dataframe thead th {\n",
       "        text-align: right;\n",
       "    }\n",
       "</style>\n",
       "<table border=\"1\" class=\"dataframe\">\n",
       "  <thead>\n",
       "    <tr style=\"text-align: right;\">\n",
       "      <th></th>\n",
       "      <th>Song Title</th>\n",
       "      <th>Artist</th>\n",
       "      <th>Date</th>\n",
       "      <th>Listening Time</th>\n",
       "    </tr>\n",
       "  </thead>\n",
       "  <tbody>\n",
       "    <tr>\n",
       "      <th>0</th>\n",
       "      <td>Personne</td>\n",
       "      <td>47Ter</td>\n",
       "      <td>2024-12-04 13:56:40.714000+01:00</td>\n",
       "      <td>0</td>\n",
       "    </tr>\n",
       "    <tr>\n",
       "      <th>1</th>\n",
       "      <td>La vérité</td>\n",
       "      <td>Fredz</td>\n",
       "      <td>2024-12-04 13:54:20.071000+01:00</td>\n",
       "      <td>0</td>\n",
       "    </tr>\n",
       "    <tr>\n",
       "      <th>2</th>\n",
       "      <td>Doss</td>\n",
       "      <td>47Ter</td>\n",
       "      <td>2024-12-04 13:50:47.128000+01:00</td>\n",
       "      <td>0</td>\n",
       "    </tr>\n",
       "    <tr>\n",
       "      <th>121</th>\n",
       "      <td>Swim</td>\n",
       "      <td>Chase Atlantic</td>\n",
       "      <td>2024-12-03 20:02:43.415000+01:00</td>\n",
       "      <td>0</td>\n",
       "    </tr>\n",
       "    <tr>\n",
       "      <th>122</th>\n",
       "      <td>RICOCHET</td>\n",
       "      <td>Chase Atlantic</td>\n",
       "      <td>2024-12-03 19:59:48.639000+01:00</td>\n",
       "      <td>0</td>\n",
       "    </tr>\n",
       "  </tbody>\n",
       "</table>\n",
       "</div>"
      ]
     },
     "execution_count": 39,
     "metadata": {},
     "output_type": "execute_result"
    }
   ],
   "execution_count": 39
  },
  {
   "metadata": {
    "ExecuteTime": {
     "end_time": "2025-01-07T17:36:20.243993Z",
     "start_time": "2025-01-07T17:13:44.977899Z"
    }
   },
   "cell_type": "code",
   "source": [
    "# Step 1: Create a unique DataFrame for Title and Artist\n",
    "unique_songs = df[[\"Song Title\", \"Artist\"]].drop_duplicates()\n",
    "\n",
    "# Step 2: Fetch tags for each unique song\n",
    "unique_songs[\"Tags\"] = unique_songs.apply(lambda row: utils.fetch_tags(row[\"Song Title\"], row[\"Artist\"]), axis=1)\n",
    "\n",
    "# Step 3: Merge the tags back to the original DataFrame\n",
    "df = df.merge(unique_songs, on=[\"Song Title\", \"Artist\"], how=\"left\")\n",
    "\n",
    "# Export the data to a CSV file\n",
    "df.to_csv(\"thomas_songs_with_tags_verified.csv\", index=False)"
   ],
   "id": "6ced40b612aab778",
   "outputs": [],
   "execution_count": 101
  },
  {
   "metadata": {},
   "cell_type": "markdown",
   "source": "-----",
   "id": "8ec62b6202cb3d16"
  },
  {
   "metadata": {},
   "cell_type": "markdown",
   "source": "# Exportation from the CSV to JSON",
   "id": "2807f499c5b66a65"
  },
  {
   "metadata": {},
   "cell_type": "markdown",
   "source": "Here is the instruction to export the data from the CSV file to a JSON file.",
   "id": "7c132b74a8a7479f"
  },
  {
   "metadata": {
    "ExecuteTime": {
     "end_time": "2025-01-07T18:31:28.579804Z",
     "start_time": "2025-01-07T18:31:24.839127Z"
    }
   },
   "cell_type": "code",
   "source": [
    "utils.export_music_data_to_json(\"clement_songs_with_tags_verified.csv\", \"clement.json\", \"clement\", \"Clément Laurent\")\n",
    "utils.export_music_data_to_json(\"matthieu_songs_with_tags_verified.csv\", \"matthieu.json\", \"matthieu\", \"Matthieu Randriantsoa\")\n",
    "utils.export_music_data_to_json(\"celine_songs_with_tags_verified.csv\", \"celine.json\", \"celine\", \"Céline Constant\")\n",
    "utils.export_music_data_to_json(\"thomas_songs_with_tags_verified.csv\", \"thomas.json\", \"thomas\", \"Thomas Halvick\")"
   ],
   "id": "322be2f853bd6095",
   "outputs": [
    {
     "name": "stdout",
     "output_type": "stream",
     "text": [
      "Data has been processed and saved to clement.json\n",
      "Data has been processed and saved to matthieu.json\n",
      "Data has been processed and saved to celine.json\n",
      "Data has been processed and saved to thomas.json\n"
     ]
    }
   ],
   "execution_count": 2
  },
  {
   "metadata": {},
   "cell_type": "markdown",
   "source": "# Additional Data Tweaks",
   "id": "d914d6982fad7f26"
  },
  {
   "metadata": {},
   "cell_type": "markdown",
   "source": "Some structural changes are required but are easier to make directly in the JSON file itself. Also, we need to merge the data from different users into a single JSON entry.",
   "id": "c889a33a56ab0599"
  },
  {
   "metadata": {
    "ExecuteTime": {
     "end_time": "2025-01-07T18:31:31.956701Z",
     "start_time": "2025-01-07T18:31:31.868812Z"
    }
   },
   "cell_type": "code",
   "source": [
    "# Define users and their corresponding files\n",
    "users = [\n",
    "    (\"Céline\", \"celine.json\"),\n",
    "    (\"Clément\", \"clement.json\"),\n",
    "    (\"Matthieu\", \"matthieu.json\"),\n",
    "    (\"Thomas\", \"thomas.json\")\n",
    "]\n",
    "\n",
    "# Initialize empty lists for merged data\n",
    "merged_months = []\n",
    "merged_years = []\n",
    "merged_days = []\n",
    "\n",
    "# Process each user's data and merge\n",
    "for user, file in users:\n",
    "    with open(file, encoding=\"utf-8\") as f:\n",
    "        data = json.load(f)\n",
    "\n",
    "    # Append the user name to each entry in the respective data categories\n",
    "    for entry in data[\"users\"][0]['average_listening_time']['dataMonth']:\n",
    "        entry['user'] = user\n",
    "        merged_months.append(entry)\n",
    "    for entry in data[\"users\"][0]['average_listening_time']['dataYear']:\n",
    "        entry['user'] = user\n",
    "        merged_years.append(entry)\n",
    "    for entry in data[\"users\"][0]['average_listening_time']['dataDay']:\n",
    "        entry['user'] = user\n",
    "        merged_days.append(entry)\n",
    "\n",
    "# Create the final merged object\n",
    "final_merged_data = {\n",
    "    \"dataMonth\": merged_months,\n",
    "    \"dataYear\": merged_years,\n",
    "    \"dataDay\": merged_days\n",
    "}\n",
    "\n",
    "# Export the merged data to a JSON file\n",
    "with open(\"merged_data.json\", \"w\", encoding=\"utf-8\") as f:\n",
    "    json.dump(final_merged_data, f, indent=4, ensure_ascii=False)\n"
   ],
   "id": "6f6e67eebee2c036",
   "outputs": [],
   "execution_count": 3
  },
  {
   "metadata": {},
   "cell_type": "markdown",
   "source": "**Hope this helps!**",
   "id": "eaa5b7d21e61a805"
  }
 ],
 "metadata": {
  "kernelspec": {
   "display_name": "Python 3",
   "language": "python",
   "name": "python3"
  },
  "language_info": {
   "codemirror_mode": {
    "name": "ipython",
    "version": 2
   },
   "file_extension": ".py",
   "mimetype": "text/x-python",
   "name": "python",
   "nbconvert_exporter": "python",
   "pygments_lexer": "ipython2",
   "version": "2.7.6"
  }
 },
 "nbformat": 4,
 "nbformat_minor": 5
}
